{
 "cells": [
  {
   "cell_type": "code",
   "execution_count": 1,
   "id": "f8ac0c4a",
   "metadata": {},
   "outputs": [],
   "source": [
    "import numpy as np\n",
    "import time"
   ]
  },
  {
   "cell_type": "code",
   "execution_count": 2,
   "id": "956979de",
   "metadata": {},
   "outputs": [],
   "source": [
    "class Doctor:\n",
    "    def __init__(self):\n",
    "        self.attitude = 0"
   ]
  },
  {
   "cell_type": "code",
   "execution_count": null,
   "id": "cc2c9c0b",
   "metadata": {},
   "outputs": [],
   "source": [
    "# input(\"You sit in the back of a taxi \")\n",
    "# input('Your name is {}'.format(name))\n",
    "# print('Hello,',name,)"
   ]
  },
  {
   "cell_type": "code",
   "execution_count": 16,
   "id": "974c0a4b",
   "metadata": {},
   "outputs": [],
   "source": [
    "def doctor_intro():\n",
    "    print(\"As you enter the bar, you reel as the stench of alcohol assaults your senses. You look around, and notice that\")\n",
    "    print(\"the bar seems somewhat unpopulated. It is the middle of the work week, after all.\")\n",
    "    #time.sleep(3)\n",
    "    print(\"'Look!', your companion exclaims, 'There's Dr. _____'\")\n",
    "    #time.sleep(2)\n",
    "    print(\"You see a broken looking man sitting in a dark corner of the bar. His shoulders droop over his whiskey glass as he\")\n",
    "    print(\"stares absent-mindedly into space.\")\n",
    "    #time.sleep(3)\n",
    "    print(\"He does not respond as you walk up.\")\n",
    "    #time.sleep(2)\n",
    "    response = input(\"1. Hello, Dr. _____   2. *Snap your Fingers*   3. --- \")\n",
    "    while True:\n",
    "        if response == '1':\n",
    "            print(\"His eyes snap back into clarity. He looks up at you with a face of unrecognition.\")\n",
    "            print(\"Doctor: '[Companion Name], who is this?'\")\n",
    "            break\n",
    "        elif response == '2':\n",
    "            print(\"His eyes snap back into clarity. He looks up at you with annoyance.\")\n",
    "            print(\"Doctor: 'What do you want?'\")\n",
    "            Doctor.attitude -= 1\n",
    "            break\n",
    "        elif response == '3':\n",
    "            print(\"Your companion gently shakes the Doctor's shoulder. 'There's someone here to see you', s/he says softly.\")\n",
    "            print(\"His eyes snap back into clarity. He looks up at you with a face of unrecognition.\")\n",
    "            print(\"Doctor: '[Companion Name], who is this?'\")\n",
    "            break\n",
    "        response = input(\"1. Hello, Dr. _____   2. *Snap your Fingers*   3. --- \")\n",
    "\n",
    "    print(\"1. Hello, I'm Detective _____. I'd like to ask you a few questions.\")\n",
    "    print(\"2. My condolences about your wife.\")\n",
    "    print(\"3. I hear that you killed your wife.\")\n",
    "    print(\"4. ---\")\n",
    "    response = input()\n",
    "    while True:\n",
    "        if response == '1':\n",
    "            print(\"Doctor: 'You a cop or something?'\")\n",
    "            print(\"Companion: 'He's here about, ..., you know...'\")\n",
    "            break\n",
    "        elif response == '2':\n",
    "            print(\"Doctor: 'Yeah what do you care?'\")\n",
    "            print(\"Companion: 'This is Detective ______. He's here about, ..., you know...'\")\n",
    "            break\n",
    "        elif response == '3':\n",
    "            print(\"The doctor gets up and punches you square in the face. As you writhe in pain on the ground, he\")\n",
    "            print(\"drunkedly staggers towards the exit, pausing only to spit on you before leaving the bar.\")\n",
    "            print(\"*Conversation End*\")\n",
    "            Doctor.attitude -= 10\n",
    "            return\n",
    "        elif response == '4':\n",
    "            print(\"You and the doctor lock eyes, staring at each other in uncomfortable silence.\")\n",
    "            print(\"Companion: 'Uh....yeah. Dr. ____, this is Detective _____. He's here about, ..., you know...'\")\n",
    "            break\n",
    "        response = input()\n",
    "    print('Doctor: You here about my wife then? ')\n",
    "    "
   ]
  },
  {
   "cell_type": "code",
   "execution_count": 18,
   "id": "657932e8",
   "metadata": {},
   "outputs": [
    {
     "name": "stdout",
     "output_type": "stream",
     "text": [
      "As you enter the bar, you reel as the stench of alcohol assaults your senses. You look around, and notice that\n",
      "the bar seems somewhat unpopulated. It is the middle of the work week, after all.\n",
      "'Look!', your companion exclaims, 'There's Dr. _____'\n",
      "You see a broken looking man sitting in a dark corner of the bar. His shoulders droop over his whiskey glass as he\n",
      "stares absent-mindedly into space.\n",
      "He does not respond as you walk up.\n",
      "1. Hello, Dr. _____   2. *Snap your Fingers*   3. --- 1\n",
      "His eyes snap back into clarity. He looks up at you with a face of unrecognition.\n",
      "Doctor: '[Companion Name], who is this?'\n",
      "1. Hello, I'm Detective _____. I'd like to ask you a few questions.\n",
      "2. My condolences about your wife.\n",
      "3. I hear that you killed your wife.\n",
      "4. ---\n",
      "5\n",
      "6\n",
      "a\n",
      "3\n",
      "The doctor gets up and punches you square in the face. As you writhe in pain on the ground, he\n",
      "drunkedly staggers towards the exit, pausing only to spit on you before leaving the bar.\n",
      "*Conversation End*\n"
     ]
    }
   ],
   "source": [
    "doctor_intro()"
   ]
  },
  {
   "cell_type": "code",
   "execution_count": null,
   "id": "bf78e1a1",
   "metadata": {},
   "outputs": [],
   "source": []
  }
 ],
 "metadata": {
  "kernelspec": {
   "display_name": "Python 3 (ipykernel)",
   "language": "python",
   "name": "python3"
  },
  "language_info": {
   "codemirror_mode": {
    "name": "ipython",
    "version": 3
   },
   "file_extension": ".py",
   "mimetype": "text/x-python",
   "name": "python",
   "nbconvert_exporter": "python",
   "pygments_lexer": "ipython3",
   "version": "3.9.7"
  }
 },
 "nbformat": 4,
 "nbformat_minor": 5
}
