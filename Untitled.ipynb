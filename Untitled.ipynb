{
 "cells": [
  {
   "cell_type": "code",
   "execution_count": 1,
   "id": "79130fca",
   "metadata": {},
   "outputs": [],
   "source": [
    "import lucidAPI"
   ]
  },
  {
   "cell_type": "code",
   "execution_count": 2,
   "id": "93a7f6cc",
   "metadata": {},
   "outputs": [
    {
     "name": "stdout",
     "output_type": "stream",
     "text": [
      "loaded Scene: First Meeting with Doctor\n",
      "Begining Scene: First Meeting with Doctor\n",
      "\n",
      "Doctor: “What do you want?”\n",
      "\n",
      "0: Detective: “Sorry to hear about your wife.” \n",
      "\n",
      "1: Detective: “I heard you killed your wife.”\n",
      "\n",
      "2: ...\n",
      "\n",
      "3: Detective: “I’m Detective _____, and I would like to ask you a few questions.” \n",
      "\n",
      "\n",
      "0\n",
      "Detective: “Sorry to hear about your wife.” \n",
      "\n",
      "Input anything to continue\n",
      "\n",
      "Doctor: \"Yeah, what do you care?\" Companion: \"hi, Dr. ____. This is Detective _____. He’s here about, … you know…\"\n",
      "\n",
      "Input anything to continue\n",
      "\n",
      "Doctor:\n",
      "You here about my wife then? Hopefully you’ll be more useful than that sorry excuse of a sheriff. Got most of the town talking about some stupid witch. Town full of hick buffoons. Why [wife name] wanted to stay in this godforsaken place, I’ll never know.  \n",
      "\n",
      "0: Why don’t you think it was the witch?\n",
      "\n",
      "1: Any idea why she wanted to stay?\n",
      "\n",
      "2: What kind of man are you drinking yourself to death after what happened to your wife?\n",
      "\n",
      "3: ...\n",
      "\n",
      "\n",
      "3\n",
      "...\n",
      "\n",
      "Input anything to continue\n",
      "\n",
      "[Companion Response]: Well that’s quite rude of you Dr. ____. I’ll have you know some of us do want to get to the bottom of this. That’s why Detective ____ is here, after all.\n",
      "\n",
      "Input anything to continue\n",
      "\n",
      "The companion and doctor continue arguing\n",
      "End of Conversation\n"
     ]
    }
   ],
   "source": [
    "filename = \"scenes/Scene_doctor1.csv\"\n",
    "test = lucidAPI.Lucid_player(filename)\n",
    "test.play()"
   ]
  },
  {
   "cell_type": "code",
   "execution_count": null,
   "id": "c256b631",
   "metadata": {},
   "outputs": [],
   "source": []
  }
 ],
 "metadata": {
  "kernelspec": {
   "display_name": "Python 3 (ipykernel)",
   "language": "python",
   "name": "python3"
  },
  "language_info": {
   "codemirror_mode": {
    "name": "ipython",
    "version": 3
   },
   "file_extension": ".py",
   "mimetype": "text/x-python",
   "name": "python",
   "nbconvert_exporter": "python",
   "pygments_lexer": "ipython3",
   "version": "3.9.7"
  }
 },
 "nbformat": 4,
 "nbformat_minor": 5
}
